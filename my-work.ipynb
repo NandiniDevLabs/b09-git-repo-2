{
 "cells": [
  {
   "cell_type": "code",
   "execution_count": 1,
   "metadata": {},
   "outputs": [],
   "source": [
    "import os"
   ]
  },
  {
   "cell_type": "code",
   "execution_count": 2,
   "metadata": {},
   "outputs": [
    {
     "data": {
      "text/plain": [
       "['input1.txt', 'input2.txt', 'source1.txt', 'source2.txt']"
      ]
     },
     "execution_count": 2,
     "metadata": {},
     "output_type": "execute_result"
    }
   ],
   "source": [
    "os.listdir('data/input/')"
   ]
  },
  {
   "cell_type": "code",
   "execution_count": 5,
   "metadata": {},
   "outputs": [],
   "source": [
    "contents = []\n",
    "with open('data/input/input1.txt') as file:\n",
    "    contents.append(file.read())\n",
    "#"
   ]
  },
  {
   "cell_type": "code",
   "execution_count": 6,
   "metadata": {},
   "outputs": [
    {
     "data": {
      "text/plain": [
       "['Input 1 -- There is no content to add here.']"
      ]
     },
     "execution_count": 6,
     "metadata": {},
     "output_type": "execute_result"
    }
   ],
   "source": [
    "contents"
   ]
  },
  {
   "cell_type": "code",
   "execution_count": 10,
   "metadata": {},
   "outputs": [],
   "source": [
    "filenames = os.listdir('data/input/')"
   ]
  },
  {
   "cell_type": "code",
   "execution_count": 11,
   "metadata": {},
   "outputs": [
    {
     "name": "stdout",
     "output_type": "stream",
     "text": [
      "input1.txt\n",
      "input2.txt\n",
      "source1.txt\n",
      "source2.txt\n"
     ]
    }
   ],
   "source": [
    "contents = []\n",
    "for filename in filenames:\n",
    "    print(filename)\n",
    "    with open('data/input/'+filename) as file:\n",
    "        contents.append(file.read())\n",
    "#"
   ]
  },
  {
   "cell_type": "code",
   "execution_count": 12,
   "metadata": {},
   "outputs": [
    {
     "data": {
      "text/plain": [
       "['Input 1 -- There is no content to add here.',\n",
       " 'Input 2 -- There is no content to add here.\\nFeb 08, 2025\\n\\n# Employee Class\\n# Name, Age, Date of Joining\\n\\n# Animal Class\\n# Name, Weight, Color',\n",
       " 'What is GitHub? (or GitLab?)\\nYou can use git completely free locally, and\\nuse it to track changes on your local files on\\nyour own computer.\\nHowever if you want to host your code on the\\ninternet, its typically easier to use a hosting\\nservice like GitHub.',\n",
       " 'This is second file in data directory.\\nAdded for testing purposes.\\nNo information to add in this file.\\n']"
      ]
     },
     "execution_count": 12,
     "metadata": {},
     "output_type": "execute_result"
    }
   ],
   "source": [
    "contents"
   ]
  },
  {
   "cell_type": "markdown",
   "metadata": {},
   "source": [
    "### Assignment\n",
    "##### Can we use list comprehension for above code?\n",
    "##### If yes, implement here."
   ]
  },
  {
   "cell_type": "code",
   "execution_count": null,
   "metadata": {},
   "outputs": [],
   "source": []
  }
 ],
 "metadata": {
  "kernelspec": {
   "display_name": "Python 3",
   "language": "python",
   "name": "python3"
  },
  "language_info": {
   "codemirror_mode": {
    "name": "ipython",
    "version": 3
   },
   "file_extension": ".py",
   "mimetype": "text/x-python",
   "name": "python",
   "nbconvert_exporter": "python",
   "pygments_lexer": "ipython3",
   "version": "3.12.8"
  }
 },
 "nbformat": 4,
 "nbformat_minor": 2
}
